{
 "cells": [
  {
   "cell_type": "code",
   "execution_count": 1,
   "metadata": {},
   "outputs": [],
   "source": [
    "import pandas as pd\n",
    "import numpy as np\n",
    "import matplotlib.pyplot as plt\n",
    "%matplotlib inline\n",
    "import datetime\n",
    "import seaborn as sns"
   ]
  },
  {
   "cell_type": "markdown",
   "metadata": {},
   "source": [
    "## Rosbank ML Competition"
   ]
  },
  {
   "cell_type": "markdown",
   "metadata": {},
   "source": [
    "Ссылка на соревнование: https://boosters.pro/champ_15"
   ]
  },
  {
   "cell_type": "markdown",
   "metadata": {},
   "source": [
    "Росбанк – часть ведущей международной финансовой группы Societe Generale, банк включен ЦБ РФ в число 11 системно значимых кредитных организаций России. Инновации неотъемлемый процесс работы Росбанка, поэтому активно развивается направленный анализа больших данных."
   ]
  },
  {
   "cell_type": "markdown",
   "metadata": {},
   "source": [
    "- Данные\n",
    "\n",
    "Датасет, который содержит историю транзакций клиентов за 3 месяца льготного использования банковского продукта\n",
    "\n",
    "- Задача\n",
    "\n",
    "Задача бинарной классификации – прогноз оттока клиентов\n",
    "\n",
    "Колонка cl_id содержит вутренний id клиента. Для каждого уникальнго cl_id следует предсказать продолжит ли клиент пользоваться продуктом (target_flag). Значение 0 соответствует отказу, а значение 1 соответствует продолжению использования"
   ]
  },
  {
   "cell_type": "code",
   "execution_count": 2,
   "metadata": {},
   "outputs": [
    {
     "data": {
      "text/html": [
       "<div>\n",
       "<style scoped>\n",
       "    .dataframe tbody tr th:only-of-type {\n",
       "        vertical-align: middle;\n",
       "    }\n",
       "\n",
       "    .dataframe tbody tr th {\n",
       "        vertical-align: top;\n",
       "    }\n",
       "\n",
       "    .dataframe thead th {\n",
       "        text-align: right;\n",
       "    }\n",
       "</style>\n",
       "<table border=\"1\" class=\"dataframe\">\n",
       "  <thead>\n",
       "    <tr style=\"text-align: right;\">\n",
       "      <th></th>\n",
       "      <th>PERIOD</th>\n",
       "      <th>cl_id</th>\n",
       "      <th>MCC</th>\n",
       "      <th>channel_type</th>\n",
       "      <th>currency</th>\n",
       "      <th>TRDATETIME</th>\n",
       "      <th>amount</th>\n",
       "      <th>trx_category</th>\n",
       "      <th>target_flag</th>\n",
       "      <th>target_sum</th>\n",
       "    </tr>\n",
       "  </thead>\n",
       "  <tbody>\n",
       "    <tr>\n",
       "      <th>0</th>\n",
       "      <td>01/10/2017</td>\n",
       "      <td>0</td>\n",
       "      <td>5200</td>\n",
       "      <td>NaN</td>\n",
       "      <td>810</td>\n",
       "      <td>21OCT17:00:00:00</td>\n",
       "      <td>5023.0</td>\n",
       "      <td>POS</td>\n",
       "      <td>0</td>\n",
       "      <td>0.0</td>\n",
       "    </tr>\n",
       "    <tr>\n",
       "      <th>1</th>\n",
       "      <td>01/10/2017</td>\n",
       "      <td>0</td>\n",
       "      <td>6011</td>\n",
       "      <td>NaN</td>\n",
       "      <td>810</td>\n",
       "      <td>12OCT17:12:24:07</td>\n",
       "      <td>20000.0</td>\n",
       "      <td>DEPOSIT</td>\n",
       "      <td>0</td>\n",
       "      <td>0.0</td>\n",
       "    </tr>\n",
       "    <tr>\n",
       "      <th>2</th>\n",
       "      <td>01/12/2017</td>\n",
       "      <td>0</td>\n",
       "      <td>5921</td>\n",
       "      <td>NaN</td>\n",
       "      <td>810</td>\n",
       "      <td>05DEC17:00:00:00</td>\n",
       "      <td>767.0</td>\n",
       "      <td>POS</td>\n",
       "      <td>0</td>\n",
       "      <td>0.0</td>\n",
       "    </tr>\n",
       "    <tr>\n",
       "      <th>3</th>\n",
       "      <td>01/10/2017</td>\n",
       "      <td>0</td>\n",
       "      <td>5411</td>\n",
       "      <td>NaN</td>\n",
       "      <td>810</td>\n",
       "      <td>21OCT17:00:00:00</td>\n",
       "      <td>2031.0</td>\n",
       "      <td>POS</td>\n",
       "      <td>0</td>\n",
       "      <td>0.0</td>\n",
       "    </tr>\n",
       "    <tr>\n",
       "      <th>4</th>\n",
       "      <td>01/10/2017</td>\n",
       "      <td>0</td>\n",
       "      <td>6012</td>\n",
       "      <td>NaN</td>\n",
       "      <td>810</td>\n",
       "      <td>24OCT17:13:14:24</td>\n",
       "      <td>36562.0</td>\n",
       "      <td>C2C_OUT</td>\n",
       "      <td>0</td>\n",
       "      <td>0.0</td>\n",
       "    </tr>\n",
       "  </tbody>\n",
       "</table>\n",
       "</div>"
      ],
      "text/plain": [
       "       PERIOD  cl_id   MCC channel_type  currency        TRDATETIME   amount  \\\n",
       "0  01/10/2017      0  5200          NaN       810  21OCT17:00:00:00   5023.0   \n",
       "1  01/10/2017      0  6011          NaN       810  12OCT17:12:24:07  20000.0   \n",
       "2  01/12/2017      0  5921          NaN       810  05DEC17:00:00:00    767.0   \n",
       "3  01/10/2017      0  5411          NaN       810  21OCT17:00:00:00   2031.0   \n",
       "4  01/10/2017      0  6012          NaN       810  24OCT17:13:14:24  36562.0   \n",
       "\n",
       "  trx_category  target_flag  target_sum  \n",
       "0          POS            0         0.0  \n",
       "1      DEPOSIT            0         0.0  \n",
       "2          POS            0         0.0  \n",
       "3          POS            0         0.0  \n",
       "4      C2C_OUT            0         0.0  "
      ]
     },
     "execution_count": 2,
     "metadata": {},
     "output_type": "execute_result"
    }
   ],
   "source": [
    "raw_df = pd.read_csv('rosbank_train.csv')\n",
    "raw_df.head(5)\n",
    "\n",
    "# target_sum - можно выкинуть, переменная участвует в другой задаче"
   ]
  },
  {
   "cell_type": "code",
   "execution_count": 3,
   "metadata": {},
   "outputs": [
    {
     "name": "stdout",
     "output_type": "stream",
     "text": [
      "<class 'pandas.core.frame.DataFrame'>\n",
      "RangeIndex: 490513 entries, 0 to 490512\n",
      "Data columns (total 10 columns):\n",
      "PERIOD          490513 non-null object\n",
      "cl_id           490513 non-null int64\n",
      "MCC             490513 non-null int64\n",
      "channel_type    487603 non-null object\n",
      "currency        490513 non-null int64\n",
      "TRDATETIME      490513 non-null object\n",
      "amount          490513 non-null float64\n",
      "trx_category    490513 non-null object\n",
      "target_flag     490513 non-null int64\n",
      "target_sum      490513 non-null float64\n",
      "dtypes: float64(2), int64(4), object(4)\n",
      "memory usage: 37.4+ MB\n"
     ]
    }
   ],
   "source": [
    "raw_df.info()"
   ]
  },
  {
   "cell_type": "code",
   "execution_count": 4,
   "metadata": {},
   "outputs": [
    {
     "data": {
      "text/plain": [
       "type1    299247\n",
       "type2    175013\n",
       "type5      5587\n",
       "type4      4476\n",
       "type3      3280\n",
       "NaN        2910\n",
       "Name: channel_type, dtype: int64"
      ]
     },
     "execution_count": 4,
     "metadata": {},
     "output_type": "execute_result"
    }
   ],
   "source": [
    "raw_df['channel_type'].value_counts(dropna=False)"
   ]
  },
  {
   "cell_type": "code",
   "execution_count": 5,
   "metadata": {},
   "outputs": [
    {
     "data": {
      "text/plain": [
       "type1    299247\n",
       "type2    175013\n",
       "type5      5587\n",
       "type4      4476\n",
       "type3      3280\n",
       "type6      2910\n",
       "Name: channel_type, dtype: int64"
      ]
     },
     "execution_count": 5,
     "metadata": {},
     "output_type": "execute_result"
    }
   ],
   "source": [
    "# заменем отсутствующие значения в столбце 'канал привлечения' на 'type6'\n",
    "raw_df['channel_type'].fillna('type6', inplace=True)\n",
    "raw_df['channel_type'].value_counts(dropna=False)"
   ]
  },
  {
   "cell_type": "code",
   "execution_count": 6,
   "metadata": {},
   "outputs": [
    {
     "name": "stdout",
     "output_type": "stream",
     "text": [
      "Количество уникальных клиентов: 5000\n"
     ]
    }
   ],
   "source": [
    "num_customers = raw_df['cl_id'].nunique()\n",
    "print(f'Количество уникальных клиентов: {num_customers}')"
   ]
  },
  {
   "cell_type": "code",
   "execution_count": 7,
   "metadata": {},
   "outputs": [],
   "source": [
    "from sklearn.model_selection import StratifiedShuffleSplit"
   ]
  },
  {
   "cell_type": "code",
   "execution_count": 8,
   "metadata": {},
   "outputs": [
    {
     "data": {
      "text/html": [
       "<div>\n",
       "<style scoped>\n",
       "    .dataframe tbody tr th:only-of-type {\n",
       "        vertical-align: middle;\n",
       "    }\n",
       "\n",
       "    .dataframe tbody tr th {\n",
       "        vertical-align: top;\n",
       "    }\n",
       "\n",
       "    .dataframe thead th {\n",
       "        text-align: right;\n",
       "    }\n",
       "</style>\n",
       "<table border=\"1\" class=\"dataframe\">\n",
       "  <thead>\n",
       "    <tr style=\"text-align: right;\">\n",
       "      <th></th>\n",
       "      <th>PERIOD</th>\n",
       "      <th>MCC</th>\n",
       "      <th>channel_type</th>\n",
       "      <th>currency</th>\n",
       "      <th>TRDATETIME</th>\n",
       "      <th>amount</th>\n",
       "      <th>trx_category</th>\n",
       "      <th>target_flag</th>\n",
       "      <th>target_sum</th>\n",
       "    </tr>\n",
       "    <tr>\n",
       "      <th>cl_id</th>\n",
       "      <th></th>\n",
       "      <th></th>\n",
       "      <th></th>\n",
       "      <th></th>\n",
       "      <th></th>\n",
       "      <th></th>\n",
       "      <th></th>\n",
       "      <th></th>\n",
       "      <th></th>\n",
       "    </tr>\n",
       "  </thead>\n",
       "  <tbody>\n",
       "    <tr>\n",
       "      <th>0</th>\n",
       "      <td>01/10/2017</td>\n",
       "      <td>5200</td>\n",
       "      <td>type6</td>\n",
       "      <td>810</td>\n",
       "      <td>21OCT17:00:00:00</td>\n",
       "      <td>5023.0</td>\n",
       "      <td>POS</td>\n",
       "      <td>0</td>\n",
       "      <td>0.0</td>\n",
       "    </tr>\n",
       "  </tbody>\n",
       "</table>\n",
       "</div>"
      ],
      "text/plain": [
       "           PERIOD   MCC channel_type  currency        TRDATETIME  amount  \\\n",
       "cl_id                                                                      \n",
       "0      01/10/2017  5200        type6       810  21OCT17:00:00:00  5023.0   \n",
       "\n",
       "      trx_category  target_flag  target_sum  \n",
       "cl_id                                        \n",
       "0              POS            0         0.0  "
      ]
     },
     "execution_count": 8,
     "metadata": {},
     "output_type": "execute_result"
    }
   ],
   "source": [
    "cl_ids_df = raw_df.drop_duplicates('cl_id', keep='first')\n",
    "cl_ids_df.set_index('cl_id').head(1)"
   ]
  },
  {
   "cell_type": "code",
   "execution_count": 9,
   "metadata": {},
   "outputs": [],
   "source": [
    "split = StratifiedShuffleSplit(n_splits=1, test_size=0.2, \n",
    "                               random_state=42)"
   ]
  },
  {
   "cell_type": "code",
   "execution_count": 10,
   "metadata": {},
   "outputs": [
    {
     "name": "stdout",
     "output_type": "stream",
     "text": [
      "Total transactions in train dataset:  388552\n",
      "Total transactions in test dataset:  101961\n"
     ]
    }
   ],
   "source": [
    "# cоздадим стратифицированную выборку на соснове катергорий транзакций и каналов привлечения.\n",
    "for cl_ids_train, cl_ids_test in split.split(raw_df, raw_df[['trx_category', 'channel_type']]):\n",
    "    train_df = raw_df[raw_df['cl_id'].isin(cl_ids_train)].copy()\n",
    "    test_df = raw_df[raw_df['cl_id'].isin(cl_ids_test)].copy()\n",
    "    \n",
    "print(\"Total transactions in train dataset: \", len(train_df))\n",
    "print(\"Total transactions in test dataset: \", len(test_df))"
   ]
  },
  {
   "cell_type": "code",
   "execution_count": null,
   "metadata": {},
   "outputs": [],
   "source": []
  },
  {
   "cell_type": "code",
   "execution_count": 11,
   "metadata": {},
   "outputs": [
    {
     "data": {
      "image/png": "[encoded data removed]",
      "text/plain": [
       "<Figure size 1008x432 with 1 Axes>"
      ]
     },
     "metadata": {
      "needs_background": "light"
     },
     "output_type": "display_data"
    }
   ],
   "source": [
    "plt.figure(figsize = (14,6))\n",
    "ax = sns.countplot(x = 'trx_category', hue='target_flag', data=train_df)\n",
    "ax.figure.get_axes()[0].set_yscale('log')\n",
    "plt.tight_layout()"
   ]
  },
  {
   "cell_type": "markdown",
   "metadata": {},
   "source": [
    "Как видно, большинство операций проходят через POS терминал. Во всех остальных категориях - операций на порядок меньше (ось y - логарифмическая)"
   ]
  },
  {
   "cell_type": "code",
   "execution_count": 12,
   "metadata": {},
   "outputs": [],
   "source": [
    "channel_type_df = raw_df.drop_duplicates('cl_id', keep='first')"
   ]
  },
  {
   "cell_type": "code",
   "execution_count": 13,
   "metadata": {},
   "outputs": [
    {
     "data": {
      "image/png": "[encoded data removed]",
      "text/plain": [
       "<Figure size 1008x432 with 1 Axes>"
      ]
     },
     "metadata": {
      "needs_background": "light"
     },
     "output_type": "display_data"
    }
   ],
   "source": [
    "plt.figure(figsize = (14,6))\n",
    "ax = sns.countplot(x = 'channel_type', hue='target_flag', data=cl_ids_df)\n",
    "ax.figure.get_axes()[0].set_yscale('log')\n",
    "plt.tight_layout()"
   ]
  },
  {
   "cell_type": "markdown",
   "metadata": {},
   "source": [
    "Количество клиентов в зависимости от канала привлечения также существенно отличается (на графики ось y - логарифмическая)."
   ]
  },
  {
   "cell_type": "code",
   "execution_count": null,
   "metadata": {},
   "outputs": [],
   "source": []
  },
  {
   "cell_type": "code",
   "execution_count": 14,
   "metadata": {},
   "outputs": [
    {
     "data": {
      "text/plain": [
       "<matplotlib.axes._subplots.AxesSubplot at 0x7f6839adb2e8>"
      ]
     },
     "execution_count": 14,
     "metadata": {},
     "output_type": "execute_result"
    },
    {
     "data": {
      "image/png": "[encoded data removed]",
      "text/plain": [
       "<Figure size 432x288 with 1 Axes>"
      ]
     },
     "metadata": {
      "needs_background": "light"
     },
     "output_type": "display_data"
    }
   ],
   "source": [
    "trx_category = (raw_df[['trx_category', 'target_flag']].groupby('trx_category').sum()\n",
    " /\n",
    "raw_df[['trx_category', 'target_flag']].groupby('trx_category').count())*100\n",
    "\n",
    "trx_category.sort_values('target_flag', ascending=False).plot(kind='bar')\n",
    "# Доля оставшихся клиентов для разных категорий транзаций"
   ]
  },
  {
   "cell_type": "code",
   "execution_count": null,
   "metadata": {},
   "outputs": [],
   "source": []
  },
  {
   "cell_type": "code",
   "execution_count": 15,
   "metadata": {},
   "outputs": [
    {
     "data": {
      "text/plain": [
       "<matplotlib.axes._subplots.AxesSubplot at 0x7f6839a82080>"
      ]
     },
     "execution_count": 15,
     "metadata": {},
     "output_type": "execute_result"
    },
    {
     "data": {
      "image/png": "[encoded data removed]",
      "text/plain": [
       "<Figure size 432x288 with 1 Axes>"
      ]
     },
     "metadata": {
      "needs_background": "light"
     },
     "output_type": "display_data"
    }
   ],
   "source": [
    "channel_df = (raw_df[['channel_type', 'target_flag']].groupby('channel_type').sum()\n",
    " /\n",
    "raw_df[['channel_type', 'target_flag']].groupby('channel_type').count())*100\n",
    "\n",
    "channel_df.sort_values('target_flag', ascending=False).plot(kind='bar')\n",
    "# Доля оставшихся клиентов в зависимости от канала привлечения"
   ]
  },
  {
   "cell_type": "code",
   "execution_count": 16,
   "metadata": {},
   "outputs": [
    {
     "data": {
      "text/plain": [
       "<matplotlib.axes._subplots.AxesSubplot at 0x7f6839993278>"
      ]
     },
     "execution_count": 16,
     "metadata": {},
     "output_type": "execute_result"
    },
    {
     "data": {
      "image/png": "[encoded data removed]",
      "text/plain": [
       "<Figure size 1152x432 with 1 Axes>"
      ]
     },
     "metadata": {
      "needs_background": "light"
     },
     "output_type": "display_data"
    }
   ],
   "source": [
    "currency_df = (raw_df[['currency', 'target_flag']].groupby('currency').sum()\n",
    " /\n",
    "raw_df[['currency', 'target_flag']].groupby('currency').count())*100\n",
    "currency_df.sort_values('target_flag', ascending=False).plot(kind='bar', figsize=(16,6))\n",
    "\n",
    "# Доля оставшихся клиентов в зависимости от используемых валют"
   ]
  },
  {
   "cell_type": "code",
   "execution_count": 17,
   "metadata": {},
   "outputs": [
    {
     "data": {
      "text/plain": [
       "Index(['PERIOD', 'cl_id', 'MCC', 'channel_type', 'currency', 'TRDATETIME',\n",
       "       'amount', 'trx_category', 'target_flag', 'target_sum'],\n",
       "      dtype='object')"
      ]
     },
     "execution_count": 17,
     "metadata": {},
     "output_type": "execute_result"
    }
   ],
   "source": [
    "train_df.columns"
   ]
  },
  {
   "cell_type": "code",
   "execution_count": 18,
   "metadata": {},
   "outputs": [
    {
     "data": {
      "text/plain": [
       "5411    96017\n",
       "6011    43415\n",
       "5814    32558\n",
       "5812    23487\n",
       "5499    21415\n",
       "Name: MCC, dtype: int64"
      ]
     },
     "execution_count": 18,
     "metadata": {},
     "output_type": "execute_result"
    }
   ],
   "source": [
    "train_df['MCC'].value_counts().head()\n",
    "# Топ 5 MCC кодов по количеству транзакций"
   ]
  },
  {
   "cell_type": "markdown",
   "metadata": {},
   "source": [
    "5411 - Бакалейные магазины, супермаркеты<br>\n",
    "6011 - Cнятие наличности<br>\n",
    "5814 - Фастфуд"
   ]
  },
  {
   "cell_type": "code",
   "execution_count": 19,
   "metadata": {},
   "outputs": [
    {
     "data": {
      "text/html": [
       "<div>\n",
       "<style scoped>\n",
       "    .dataframe tbody tr th:only-of-type {\n",
       "        vertical-align: middle;\n",
       "    }\n",
       "\n",
       "    .dataframe tbody tr th {\n",
       "        vertical-align: top;\n",
       "    }\n",
       "\n",
       "    .dataframe thead th {\n",
       "        text-align: right;\n",
       "    }\n",
       "</style>\n",
       "<table border=\"1\" class=\"dataframe\">\n",
       "  <thead>\n",
       "    <tr style=\"text-align: right;\">\n",
       "      <th></th>\n",
       "      <th>amount</th>\n",
       "    </tr>\n",
       "    <tr>\n",
       "      <th>MCC</th>\n",
       "      <th></th>\n",
       "    </tr>\n",
       "  </thead>\n",
       "  <tbody>\n",
       "    <tr>\n",
       "      <th>6011</th>\n",
       "      <td>52.668645</td>\n",
       "    </tr>\n",
       "    <tr>\n",
       "      <th>6012</th>\n",
       "      <td>6.580724</td>\n",
       "    </tr>\n",
       "    <tr>\n",
       "      <th>5411</th>\n",
       "      <td>4.727808</td>\n",
       "    </tr>\n",
       "    <tr>\n",
       "      <th>7011</th>\n",
       "      <td>3.883659</td>\n",
       "    </tr>\n",
       "    <tr>\n",
       "      <th>4829</th>\n",
       "      <td>3.101121</td>\n",
       "    </tr>\n",
       "  </tbody>\n",
       "</table>\n",
       "</div>"
      ],
      "text/plain": [
       "         amount\n",
       "MCC            \n",
       "6011  52.668645\n",
       "6012   6.580724\n",
       "5411   4.727808\n",
       "7011   3.883659\n",
       "4829   3.101121"
      ]
     },
     "execution_count": 19,
     "metadata": {},
     "output_type": "execute_result"
    }
   ],
   "source": [
    "(train_df[['MCC', 'amount']].groupby('MCC').sum()\n",
    " /train_df['amount'].sum()*100\n",
    ").sort_values('amount', ascending=False).head()\n",
    "# Топ 5 MCC кодов по сумме транзакций (без учета курса валют) - в процентах от общей суммы всех транзакций"
   ]
  },
  {
   "cell_type": "markdown",
   "metadata": {},
   "source": [
    "Что касается суммы транзакций, картина другая:<br>\n",
    "6011 - Cнятие наличности<br>\n",
    "6012 - Финансовые институты – торговля и услуги<br>\n",
    "5411 - Бакалейные магазины, супермаркеты"
   ]
  },
  {
   "cell_type": "code",
   "execution_count": 20,
   "metadata": {},
   "outputs": [],
   "source": [
    "from datetime import datetime, timedelta\n",
    "import requests\n",
    "# !pip install pycbrf\n",
    "from pycbrf.toolbox import ExchangeRates"
   ]
  },
  {
   "cell_type": "code",
   "execution_count": 21,
   "metadata": {},
   "outputs": [],
   "source": [
    "def get_woe(df_train, df_test, col, target_col):\n",
    "    all_good = len(df_train[df_train[target_col] == 1][col])\n",
    "    all_bad = len(df_train[df_train[target_col] == 0][col])\n",
    "    odds_series = (\n",
    "        df_train[df_train[target_col] == 1][col].value_counts()\n",
    "        /\n",
    "        df_train[df_train[target_col] == 0][col].value_counts()\n",
    "    )\n",
    "    odds_series = odds_series / all_good * all_bad\n",
    "    category_woe_dict = np.log(odds_series).to_dict()\n",
    "    df_train[col + '_woe'] = df_train[col].apply(category_woe_dict.get)\n",
    "    df_test[col + '_woe'] = df_test[col].apply(category_woe_dict.get)\n",
    "    return df_train, df_test"
   ]
  },
  {
   "cell_type": "code",
   "execution_count": 22,
   "metadata": {},
   "outputs": [],
   "source": [
    "woe_columns = ['MCC', 'channel_type']"
   ]
  },
  {
   "cell_type": "code",
   "execution_count": 23,
   "metadata": {},
   "outputs": [],
   "source": [
    "for col in woe_columns:\n",
    "    get_woe(train_df, test_df, col, 'target_flag')"
   ]
  },
  {
   "cell_type": "code",
   "execution_count": 24,
   "metadata": {},
   "outputs": [
    {
     "data": {
      "text/html": [
       "<div>\n",
       "<style scoped>\n",
       "    .dataframe tbody tr th:only-of-type {\n",
       "        vertical-align: middle;\n",
       "    }\n",
       "\n",
       "    .dataframe tbody tr th {\n",
       "        vertical-align: top;\n",
       "    }\n",
       "\n",
       "    .dataframe thead th {\n",
       "        text-align: right;\n",
       "    }\n",
       "</style>\n",
       "<table border=\"1\" class=\"dataframe\">\n",
       "  <thead>\n",
       "    <tr style=\"text-align: right;\">\n",
       "      <th></th>\n",
       "      <th>PERIOD</th>\n",
       "      <th>cl_id</th>\n",
       "      <th>MCC</th>\n",
       "      <th>channel_type</th>\n",
       "      <th>currency</th>\n",
       "      <th>TRDATETIME</th>\n",
       "      <th>amount</th>\n",
       "      <th>trx_category</th>\n",
       "      <th>target_flag</th>\n",
       "      <th>target_sum</th>\n",
       "      <th>MCC_woe</th>\n",
       "      <th>channel_type_woe</th>\n",
       "    </tr>\n",
       "  </thead>\n",
       "  <tbody>\n",
       "    <tr>\n",
       "      <th>0</th>\n",
       "      <td>01/10/2017</td>\n",
       "      <td>0</td>\n",
       "      <td>5200</td>\n",
       "      <td>type6</td>\n",
       "      <td>810</td>\n",
       "      <td>21OCT17:00:00:00</td>\n",
       "      <td>5023.0</td>\n",
       "      <td>POS</td>\n",
       "      <td>0</td>\n",
       "      <td>0.0</td>\n",
       "      <td>-0.654028</td>\n",
       "      <td>-1.226953</td>\n",
       "    </tr>\n",
       "  </tbody>\n",
       "</table>\n",
       "</div>"
      ],
      "text/plain": [
       "       PERIOD  cl_id   MCC channel_type  currency        TRDATETIME  amount  \\\n",
       "0  01/10/2017      0  5200        type6       810  21OCT17:00:00:00  5023.0   \n",
       "\n",
       "  trx_category  target_flag  target_sum   MCC_woe  channel_type_woe  \n",
       "0          POS            0         0.0 -0.654028         -1.226953  "
      ]
     },
     "execution_count": 24,
     "metadata": {},
     "output_type": "execute_result"
    }
   ],
   "source": [
    "train_df.head(1)"
   ]
  },
  {
   "cell_type": "code",
   "execution_count": 25,
   "metadata": {},
   "outputs": [],
   "source": [
    "def working_dates(df):\n",
    "    '''\n",
    "    Функция возвращает словарь, где ключ - это дата в формате datetime.date(),\n",
    "    а значение - это 1, если дата рабочий день и 0, если выходной или праздничный. \n",
    "    В функцию передается dataframe с колонкой 'datetime' в формате datetime.\n",
    "    '''\n",
    "    first_date = df['datetime'].min()\n",
    "    last_date = df['datetime'].max()\n",
    "    work_days = {}\n",
    "    day = first_date\n",
    "    while day <= last_date+timedelta(days=1):\n",
    "        work_days[day.date()] = abs(int(requests.get(\n",
    "            f\"https://isdayoff.ru/{day.strftime('%Y%m%d')}\").text) - 1)\n",
    "        day += timedelta(days=1)\n",
    "    return work_days"
   ]
  },
  {
   "cell_type": "code",
   "execution_count": 26,
   "metadata": {},
   "outputs": [],
   "source": [
    "def currencies_sets(df):\n",
    "    '''\n",
    "    Функция возвращает 2 множества с кодами валют:\n",
    "    - по курсам которых нет данных,\n",
    "    - по курсам которых есть данные.\n",
    "    '''\n",
    "    currencies_num = df['currency'].unique()\n",
    "    rates = ExchangeRates(\n",
    "        df['datetime'].iloc[0].strftime('%Y-%m-%d'))\n",
    "    # список нумерных кодов валют, по курсам которых нет данных\n",
    "    no_rate_cur_lst = []\n",
    "    # список нумерных кодов валют, по курсам которых есть данные\n",
    "    cur_with_rate_lst = []\n",
    "    for cur in currencies_num:\n",
    "        try:\n",
    "            rates[str(cur)]\n",
    "            cur_with_rate_lst.append(cur)\n",
    "        except:\n",
    "            no_rate_cur_lst.append(cur)\n",
    "    return set(cur_with_rate_lst), set(no_rate_cur_lst)"
   ]
  },
  {
   "cell_type": "code",
   "execution_count": 27,
   "metadata": {},
   "outputs": [],
   "source": [
    "def monthly_rates_dict(df, rate_cur_set):\n",
    "    '''\n",
    "    Функция возвращает словарь, где ключ - это 15-е число каждого месяца из периода\n",
    "    между min и max датой в колонке 'datetime' переданного в ф-ию dataframe,\n",
    "    а значение - это словарь с ключом - код валюты, значением - курсом валюты.\n",
    "    '''\n",
    "    first_date = df['datetime'].min().replace(hour=12)\n",
    "    last_date = df['datetime'].max().replace(hour=12)\n",
    "    # \n",
    "    month_year_rates = {}\n",
    "    day = first_date\n",
    "    while day <= last_date+timedelta(days=15):\n",
    "        day_str = day.strftime('%Y-%m-15')\n",
    "        month_year_rates[day_str] = {}\n",
    "        rate = ExchangeRates(day_str)\n",
    "        for cur in rate_cur_set:\n",
    "            try:\n",
    "                month_year_rates[day_str][cur] = float(rate[str(cur)].value)\n",
    "            except:\n",
    "                month_year_rates[day_str][cur] = 1.0\n",
    "        month = day.month\n",
    "        year = day.year\n",
    "        if month == 12:\n",
    "            day = day.replace(month=1, year=year+1)\n",
    "        else:\n",
    "            day = day.replace(month=month+1)\n",
    "    return month_year_rates"
   ]
  },
  {
   "cell_type": "code",
   "execution_count": 28,
   "metadata": {},
   "outputs": [],
   "source": [
    "def create_new_columns(df):\n",
    "    '''\n",
    "    Функция создает в переданном df новые столбцы:\n",
    "    - 'datetime' (столбец 'TRDATETIME', преобразованный в формат datetime),\n",
    "    - 'date' (столбец 'datetime', преобразованный в формат date)\n",
    "    - 'work_days' (1, если рабочий день, 0 если выходной или праздничный),\n",
    "    - 'rates' (курс валюты, если по валюте есть данные, 1 - если рубль или нет данных),\n",
    "    - 'amount_rub' (сумма транзакции в рублях)\n",
    "    - 'MCC_woe'\n",
    "    - 'channel_type_woe'\n",
    "    '''\n",
    "    df['datetime'] = df['TRDATETIME'].apply(\n",
    "        lambda x: datetime.strptime(x, '%d%b%y:%H:%M:%S'))\n",
    "    df['date'] = df['datetime'].apply(lambda x: x.date())\n",
    "    work_days = working_dates(df)\n",
    "    df['work_days'] = df['datetime'].apply(\n",
    "    lambda x: work_days[x.date()])\n",
    "    rate_cur_set, no_rate_cur_set = currencies_sets(df)\n",
    "    month_year_rates = monthly_rates_dict(df, rate_cur_set)\n",
    "    df['rates'] = df[['datetime', 'currency']].apply(\n",
    "    lambda x: month_year_rates[x['datetime'].strftime(\n",
    "        '%Y-%m-15')][x['currency']] if (x['currency'] \n",
    "        not in no_rate_cur_set) else 1, axis=1)\n",
    "    df['amount_rub'] = df['amount']*df['rates']\n",
    "    df.drop(['target_sum', 'TRDATETIME', 'PERIOD'], axis=1, \n",
    "    inplace=True, errors='ignore')"
   ]
  },
  {
   "cell_type": "code",
   "execution_count": 29,
   "metadata": {},
   "outputs": [],
   "source": [
    "create_new_columns(train_df)"
   ]
  },
  {
   "cell_type": "code",
   "execution_count": 30,
   "metadata": {},
   "outputs": [],
   "source": [
    "create_new_columns(test_df)"
   ]
  },
  {
   "cell_type": "code",
   "execution_count": 31,
   "metadata": {},
   "outputs": [],
   "source": [
    "week_days = {0: 'пн', 1: 'вт', 2: 'ср', 3: 'чт', 4: 'пт', 5: 'сб', 6: 'вс'}"
   ]
  },
  {
   "cell_type": "code",
   "execution_count": 32,
   "metadata": {},
   "outputs": [],
   "source": [
    "train_df['week_day'] = train_df['datetime'].apply(lambda x: week_days[x.weekday()])"
   ]
  },
  {
   "cell_type": "code",
   "execution_count": 33,
   "metadata": {},
   "outputs": [],
   "source": [
    "train_df['hour'] = train_df['datetime'].apply(lambda x: x.hour)"
   ]
  },
  {
   "cell_type": "code",
   "execution_count": 42,
   "metadata": {},
   "outputs": [
    {
     "data": {
      "text/plain": [
       "<matplotlib.axes._subplots.AxesSubplot at 0x7f68397373c8>"
      ]
     },
     "execution_count": 42,
     "metadata": {},
     "output_type": "execute_result"
    },
    {
     "data": {
      "image/png": "[encoded data removed]",
      "text/plain": [
       "<Figure size 720x432 with 1 Axes>"
      ]
     },
     "metadata": {
      "needs_background": "light"
     },
     "output_type": "display_data"
    }
   ],
   "source": [
    "# сумма трат по дням недели\n",
    "train_df[['week_day', 'amount']].groupby('week_day').sum().plot(kind='bar', figsize=(10,6))"
   ]
  },
  {
   "cell_type": "code",
   "execution_count": 43,
   "metadata": {},
   "outputs": [
    {
     "data": {
      "text/plain": [
       "<matplotlib.axes._subplots.AxesSubplot at 0x7f6838bea1d0>"
      ]
     },
     "execution_count": 43,
     "metadata": {},
     "output_type": "execute_result"
    },
    {
     "data": {
      "image/png": "[encoded data removed]",
      "text/plain": [
       "<Figure size 1008x432 with 1 Axes>"
      ]
     },
     "metadata": {
      "needs_background": "light"
     },
     "output_type": "display_data"
    }
   ],
   "source": [
    "# сумма трат по часам\n",
    "train_df[['hour', 'amount']].groupby('hour').sum().plot(kind='bar', figsize=(14,6))"
   ]
  },
  {
   "cell_type": "code",
   "execution_count": 44,
   "metadata": {},
   "outputs": [],
   "source": [
    "# явный выброс для 0 часов. В целом распределение похоже на нормальное."
   ]
  },
  {
   "cell_type": "code",
   "execution_count": 45,
   "metadata": {},
   "outputs": [],
   "source": [
    "train_df.drop(['week_day', 'hour'], axis=1, inplace=True)"
   ]
  },
  {
   "cell_type": "code",
   "execution_count": 46,
   "metadata": {},
   "outputs": [],
   "source": [
    "def get_aggregated_df(df, agg_type, col_to_groupby):\n",
    "    agg_df = df[['cl_id', col_to_groupby, 'amount']].groupby(['cl_id', col_to_groupby]).agg([agg_type])\n",
    "    agg_df = agg_df.unstack(fill_value=0)\n",
    "    agg_df.columns = agg_df.columns.get_level_values(2)\n",
    "\n",
    "    old_name = agg_df.columns.name\n",
    "    old_cols = agg_df.columns\n",
    "    new_cols = [old_name + '_' + agg_type + '_' + str(old_col) for old_col in old_cols]\n",
    "    agg_df.rename(\n",
    "        columns={old_col: new_col for old_col, new_col in zip(old_cols, new_cols)}, inplace=True\n",
    "    )\n",
    "    return agg_df"
   ]
  },
  {
   "cell_type": "code",
   "execution_count": 47,
   "metadata": {},
   "outputs": [],
   "source": [
    "from functools import reduce\n",
    "\n",
    "def create_features_df(df):\n",
    "    '''\n",
    "    Возвращает dataframe с фичами для обучения\n",
    "    '''\n",
    "    # создаем dataframe: cl_id: продолжительность участия в программе\n",
    "    num_days_df = df[['cl_id', 'datetime']].groupby('cl_id').agg(\n",
    "    ['min', 'max']).diff(axis=1)['datetime'] + timedelta(days=1)\n",
    "    num_days_df.drop('min', axis=1, inplace=True)\n",
    "    num_days_df.columns = ['days']\n",
    "    num_days_df['days'] = num_days_df['days'].dt.days\n",
    "    # создаем dataframe: cl_id: отношение суммы транзакций в рабочие дни\n",
    "    # к сумме транзакций за все дни.\n",
    "    work_sum_per_all_df = (\n",
    "        df[df['work_days']==1][['cl_id', 'amount_rub']].groupby(['cl_id']).sum()\n",
    "            /\n",
    "        df[['cl_id', 'amount_rub']].groupby(['cl_id']).sum()\n",
    "        )\n",
    "    work_sum_per_all_df.fillna(0, inplace=True)\n",
    "    work_sum_per_all_df.columns = ['work_sum_per_all']\n",
    "    # создаем dataframe: cl_id: средняя сумма трат в день\n",
    "    sum_per_day_df = pd.DataFrame(\n",
    "        df[['cl_id', 'amount_rub']].groupby('cl_id').sum()['amount_rub']\n",
    "            /\n",
    "        df[['cl_id', 'date']].groupby('cl_id')['date'].nunique())\n",
    "    sum_per_day_df.columns = ['sum_per_day']\n",
    "    # создаем dataframe: cl_id: количество разных валют в транзакциях\n",
    "    num_currencies_df = raw_df[['cl_id', 'currency']].groupby('cl_id')[['currency']].nunique()\n",
    "    num_currencies_df.columns = ['num_currencies']\n",
    "    # создаем dataframe: cl_id: отношение суммы трат в рублях к тратам в остальных валютах\n",
    "    amount_rub_per_all_df = (\n",
    "        df[df['currency']==810][['cl_id', 'amount_rub']].groupby('cl_id').sum()\n",
    "            /\n",
    "        df[['cl_id', 'amount_rub']].groupby('cl_id').sum()\n",
    "        )\n",
    "    amount_rub_per_all_df.fillna(0, inplace=True)\n",
    "    amount_rub_per_all_df.columns = ['amount_rub_per_all']\n",
    "    # создаем dataframe: cl_id: OHE для trx_category\n",
    "    df_train_trx_category = pd.merge(\n",
    "        get_aggregated_df(df, agg_type='mean', col_to_groupby='trx_category'),\n",
    "        get_aggregated_df(df, agg_type='sum', col_to_groupby='trx_category'),\n",
    "        left_index=True,\n",
    "        right_index=True,\n",
    "        )\n",
    "    # создаем dataframe: cl_id: OHE для currency\n",
    "    df_currency_category = pd.merge(\n",
    "        get_aggregated_df(df, agg_type='mean', col_to_groupby='currency'),\n",
    "        get_aggregated_df(df, agg_type='sum', col_to_groupby='currency'),\n",
    "        left_index=True,\n",
    "        right_index=True,\n",
    "        )\n",
    "    # создаем dataframe: cl_id: woe для MCC\n",
    "    df_grouped_mcc_woe = df[['cl_id', 'MCC_woe']].groupby(\n",
    "        'cl_id').agg(['sum', 'mean', 'min', 'max'])\n",
    "    df_grouped_mcc_woe.columns = df_grouped_mcc_woe.columns.droplevel()\n",
    "    df_grouped_mcc_woe.columns = ['MCC_woe_' + col for col in df_grouped_mcc_woe.columns]\n",
    "    # создаем dataframe: cl_id: woe для channel_type\n",
    "    df_grouped_channel_type_woe = df[['cl_id', 'channel_type_woe']].groupby(\n",
    "        'cl_id').agg(['sum', 'mean', 'min', 'max'])\n",
    "    df_grouped_channel_type_woe.columns = df_grouped_channel_type_woe.columns.droplevel()\n",
    "    df_grouped_channel_type_woe.columns = (\n",
    "        ['channel_type_woe_' + col for col in df_grouped_channel_type_woe.columns])\n",
    "    \n",
    "    feature_dfs_lst = [num_days_df, \n",
    "                       work_sum_per_all_df,\n",
    "                       sum_per_day_df,\n",
    "                       num_currencies_df,\n",
    "                       amount_rub_per_all_df,\n",
    "                       df_train_trx_category,\n",
    "                       df_currency_category,\n",
    "                       df_grouped_mcc_woe,\n",
    "                       df_grouped_channel_type_woe,\n",
    "                      ]\n",
    "    feature_df = reduce(lambda left,right: pd.merge(\n",
    "        left, right, left_index=True, right_index=True), feature_dfs_lst)\n",
    "    \n",
    "    return feature_df"
   ]
  },
  {
   "cell_type": "code",
   "execution_count": 48,
   "metadata": {},
   "outputs": [],
   "source": [
    "# train и test dataframe с фичами для обучения\n",
    "train_feature_df = create_features_df(train_df)\n",
    "test_feature_df = create_features_df(test_df)"
   ]
  },
  {
   "cell_type": "code",
   "execution_count": 49,
   "metadata": {},
   "outputs": [
    {
     "data": {
      "text/plain": [
       "((3996, 145), (1004, 109))"
      ]
     },
     "execution_count": 49,
     "metadata": {},
     "output_type": "execute_result"
    }
   ],
   "source": [
    "train_feature_df.shape, test_feature_df.shape"
   ]
  },
  {
   "cell_type": "code",
   "execution_count": 50,
   "metadata": {},
   "outputs": [],
   "source": [
    "train_feature_df['currency_sum_other'] = 0 \n",
    "train_feature_df['currency_mean_other'] = 0"
   ]
  },
  {
   "cell_type": "code",
   "execution_count": 51,
   "metadata": {},
   "outputs": [
    {
     "data": {
      "text/plain": [
       "(3996, 147)"
      ]
     },
     "execution_count": 51,
     "metadata": {},
     "output_type": "execute_result"
    }
   ],
   "source": [
    "train_feature_df.shape"
   ]
  },
  {
   "cell_type": "code",
   "execution_count": 52,
   "metadata": {},
   "outputs": [],
   "source": [
    "# столбцы в train\n",
    "train_cols = set(train_feature_df.columns)\n",
    "# столбцы в test\n",
    "test_cols = set(test_feature_df.columns)\n",
    "for col in train_cols:\n",
    "    if col not in test_cols:\n",
    "        # добавление отсутствующих столбцов в test\n",
    "        test_feature_df[col] = 0\n",
    "\n",
    "absent_in_train_cols = []\n",
    "for col in test_cols:\n",
    "    if col not in train_cols:\n",
    "        absent_in_train_cols.append(col)\n",
    "        \n",
    "sum_cols = []\n",
    "mean_cols = []\n",
    "\n",
    "for col in absent_in_train_cols:\n",
    "    if 'sum' in col:\n",
    "        sum_cols.append(col)\n",
    "    else:\n",
    "        mean_cols.append(col)"
   ]
  },
  {
   "cell_type": "code",
   "execution_count": 53,
   "metadata": {},
   "outputs": [],
   "source": [
    "test_feature_df['currency_sum_other'] = sum(test_feature_df[col] for col in sum_cols)\n",
    "test_feature_df['currency_mean_other'] = sum(test_feature_df[col] for col in mean_cols)/len(mean_cols)\n",
    "test_feature_df.drop(absent_in_train_cols, inplace=True, axis=1)"
   ]
  },
  {
   "cell_type": "code",
   "execution_count": 54,
   "metadata": {},
   "outputs": [],
   "source": [
    "train_feature_df.sort_index(axis=1, inplace=True)\n",
    "test_feature_df.sort_index(axis=1, inplace=True)"
   ]
  },
  {
   "cell_type": "code",
   "execution_count": 55,
   "metadata": {},
   "outputs": [],
   "source": [
    "df_targets = raw_df[['cl_id', 'target_flag']].drop_duplicates().copy()\n",
    "df_targets.index = df_targets['cl_id']\n",
    "df_targets = df_targets.drop('cl_id', axis=1)"
   ]
  },
  {
   "cell_type": "code",
   "execution_count": 56,
   "metadata": {},
   "outputs": [
    {
     "data": {
      "text/plain": [
       "(5000, 1)"
      ]
     },
     "execution_count": 56,
     "metadata": {},
     "output_type": "execute_result"
    }
   ],
   "source": [
    "df_targets.shape"
   ]
  },
  {
   "cell_type": "code",
   "execution_count": 57,
   "metadata": {},
   "outputs": [],
   "source": [
    "train_feature_df = pd.merge(\n",
    "    train_feature_df,\n",
    "    df_targets,\n",
    "    left_index=True,\n",
    "    right_index=True,\n",
    "    how='inner'\n",
    ")"
   ]
  },
  {
   "cell_type": "code",
   "execution_count": 58,
   "metadata": {},
   "outputs": [
    {
     "data": {
      "text/plain": [
       "(3996, 148)"
      ]
     },
     "execution_count": 58,
     "metadata": {},
     "output_type": "execute_result"
    }
   ],
   "source": [
    "train_feature_df.shape"
   ]
  },
  {
   "cell_type": "code",
   "execution_count": 59,
   "metadata": {},
   "outputs": [],
   "source": [
    "test_feature_df = pd.merge(\n",
    "    test_feature_df,\n",
    "    df_targets,\n",
    "    left_index=True,\n",
    "    right_index=True,\n",
    "    how='inner'\n",
    ")"
   ]
  },
  {
   "cell_type": "code",
   "execution_count": 60,
   "metadata": {},
   "outputs": [
    {
     "data": {
      "text/plain": [
       "(1004, 148)"
      ]
     },
     "execution_count": 60,
     "metadata": {},
     "output_type": "execute_result"
    }
   ],
   "source": [
    "test_feature_df.shape"
   ]
  },
  {
   "cell_type": "code",
   "execution_count": 61,
   "metadata": {},
   "outputs": [],
   "source": [
    "from sklearn.linear_model import LogisticRegression"
   ]
  },
  {
   "cell_type": "code",
   "execution_count": 62,
   "metadata": {},
   "outputs": [],
   "source": [
    "clf = LogisticRegression()\n",
    "x_train = train_feature_df.drop(['target_flag'], axis=1)\n",
    "y_train = train_feature_df['target_flag']\n",
    "x_train.fillna(0, inplace=True)\n",
    "\n",
    "x_test = test_feature_df.drop(['target_flag'], axis=1)\n",
    "y_test = test_feature_df['target_flag']\n",
    "x_test.fillna(0, inplace=True)"
   ]
  },
  {
   "cell_type": "code",
   "execution_count": 77,
   "metadata": {},
   "outputs": [],
   "source": [
    "from sklearn.preprocessing import StandardScaler\n",
    "scaler = StandardScaler()"
   ]
  },
  {
   "cell_type": "code",
   "execution_count": 78,
   "metadata": {},
   "outputs": [
    {
     "name": "stderr",
     "output_type": "stream",
     "text": [
      "/home/sergey/work/anaconda3/lib/python3.7/site-packages/sklearn/preprocessing/data.py:625: DataConversionWarning: Data with input dtype int64, float64 were all converted to float64 by StandardScaler.\n",
      "  return self.partial_fit(X, y)\n",
      "/home/sergey/work/anaconda3/lib/python3.7/site-packages/sklearn/base.py:462: DataConversionWarning: Data with input dtype int64, float64 were all converted to float64 by StandardScaler.\n",
      "  return self.fit(X, **fit_params).transform(X)\n"
     ]
    }
   ],
   "source": [
    "x_train = scaler.fit_transform(x_train)"
   ]
  },
  {
   "cell_type": "code",
   "execution_count": 79,
   "metadata": {},
   "outputs": [
    {
     "name": "stderr",
     "output_type": "stream",
     "text": [
      "/home/sergey/work/anaconda3/lib/python3.7/site-packages/ipykernel_launcher.py:1: DataConversionWarning: Data with input dtype int64, float64 were all converted to float64 by StandardScaler.\n",
      "  \"\"\"Entry point for launching an IPython kernel.\n"
     ]
    }
   ],
   "source": [
    "x_test = scaler.transform(x_test)"
   ]
  },
  {
   "cell_type": "code",
   "execution_count": 80,
   "metadata": {},
   "outputs": [
    {
     "data": {
      "text/plain": [
       "((3996, 147), (3996,))"
      ]
     },
     "execution_count": 80,
     "metadata": {},
     "output_type": "execute_result"
    }
   ],
   "source": [
    "x_train.shape, y_train.shape"
   ]
  },
  {
   "cell_type": "code",
   "execution_count": 81,
   "metadata": {},
   "outputs": [
    {
     "data": {
      "text/plain": [
       "((1004, 147), (1004,))"
      ]
     },
     "execution_count": 81,
     "metadata": {},
     "output_type": "execute_result"
    }
   ],
   "source": [
    "x_test.shape, y_test.shape"
   ]
  },
  {
   "cell_type": "code",
   "execution_count": 82,
   "metadata": {},
   "outputs": [
    {
     "name": "stderr",
     "output_type": "stream",
     "text": [
      "/home/sergey/work/anaconda3/lib/python3.7/site-packages/sklearn/linear_model/logistic.py:433: FutureWarning: Default solver will be changed to 'lbfgs' in 0.22. Specify a solver to silence this warning.\n",
      "  FutureWarning)\n"
     ]
    },
    {
     "data": {
      "text/plain": [
       "LogisticRegression(C=1.0, class_weight=None, dual=False, fit_intercept=True,\n",
       "          intercept_scaling=1, max_iter=100, multi_class='warn',\n",
       "          n_jobs=None, penalty='l2', random_state=None, solver='warn',\n",
       "          tol=0.0001, verbose=0, warm_start=False)"
      ]
     },
     "execution_count": 82,
     "metadata": {},
     "output_type": "execute_result"
    }
   ],
   "source": [
    "clf.fit(X=x_train, y=y_train)"
   ]
  },
  {
   "cell_type": "code",
   "execution_count": 83,
   "metadata": {},
   "outputs": [],
   "source": [
    "from sklearn.metrics import roc_auc_score, roc_curve"
   ]
  },
  {
   "cell_type": "code",
   "execution_count": 84,
   "metadata": {},
   "outputs": [
    {
     "name": "stdout",
     "output_type": "stream",
     "text": [
      "Train:  0.829\n"
     ]
    }
   ],
   "source": [
    "y_train_predict = clf.predict_proba(x_train)[:, 1]\n",
    "\n",
    "\n",
    "\n",
    "roc_auc_train = np.round(roc_auc_score(y_train, y_train_predict), 3)\n",
    "print(\"Train: \", roc_auc_train)"
   ]
  },
  {
   "cell_type": "code",
   "execution_count": 85,
   "metadata": {},
   "outputs": [
    {
     "name": "stdout",
     "output_type": "stream",
     "text": [
      "Test:  0.763\n"
     ]
    }
   ],
   "source": [
    "y_test_predict = clf.predict_proba(x_test)[:, 1]\n",
    "\n",
    "\n",
    "roc_auc_test = np.round(roc_auc_score(y_test, y_test_predict), 3)\n",
    "print(\"Test: \", roc_auc_test)"
   ]
  },
  {
   "cell_type": "code",
   "execution_count": 86,
   "metadata": {},
   "outputs": [
    {
     "data": {
      "image/png": "[encoded data removed]",
      "text/plain": [
       "<Figure size 720x720 with 1 Axes>"
      ]
     },
     "metadata": {
      "needs_background": "light"
     },
     "output_type": "display_data"
    }
   ],
   "source": [
    "import matplotlib\n",
    "fpr_train, tpr_train, thresholds_train = roc_curve(y_train, y_train_predict)\n",
    "fpr_test, tpr_test, thresholds_test = roc_curve(y_test, y_test_predict)\n",
    "\n",
    "matplotlib.rcParams['figure.figsize'] = (10.0, 10.0)\n",
    "plt.plot(fpr_train, tpr_train, label='Train ROC AUC {0}'.format(roc_auc_train))\n",
    "plt.plot(fpr_test, tpr_test, label='Test ROC AUC {0}'.format(roc_auc_test))\n",
    "plt.plot([0, 1], [0, 1], '--', color=(0.6, 0.6, 0.6))\n",
    "plt.xlim([0, 1])\n",
    "plt.ylim([0, 1])\n",
    "plt.xlabel('False Positive Rate')\n",
    "plt.ylabel('True Positive Rate')\n",
    "plt.title('Logistic Regression Classifier', size=16)\n",
    "plt.legend(loc='lower right')\n",
    "plt.show()"
   ]
  },
  {
   "cell_type": "code",
   "execution_count": null,
   "metadata": {},
   "outputs": [],
   "source": []
  },
  {
   "cell_type": "code",
   "execution_count": 87,
   "metadata": {},
   "outputs": [],
   "source": [
    "from sklearn.ensemble import RandomForestClassifier\n",
    "from sklearn.tree import DecisionTreeClassifier\n",
    "import xgboost"
   ]
  },
  {
   "cell_type": "code",
   "execution_count": 88,
   "metadata": {},
   "outputs": [
    {
     "name": "stdout",
     "output_type": "stream",
     "text": [
      "Train:  0.954\n",
      "Test:  0.826\n"
     ]
    }
   ],
   "source": [
    "xgb = xgboost.XGBClassifier(max_depth=5, n_jobs=-1)\n",
    "# xgb = DecisionTreeClassifier()\n",
    "xgb.fit(x_train, y_train)\n",
    "y_train_predict = xgb.predict_proba(x_train)[:, 1]\n",
    "y_test_predict = xgb.predict_proba(x_test)[:, 1]\n",
    "roc_auc_train = np.round(roc_auc_score(y_train, y_train_predict), 3)\n",
    "roc_auc_test = np.round(roc_auc_score(y_test, y_test_predict), 3)\n",
    "print(\"Train: \", roc_auc_train)\n",
    "print(\"Test: \", roc_auc_test)"
   ]
  },
  {
   "cell_type": "code",
   "execution_count": 89,
   "metadata": {},
   "outputs": [
    {
     "data": {
      "image/png": "[encoded data removed]",
      "text/plain": [
       "<Figure size 720x720 with 1 Axes>"
      ]
     },
     "metadata": {
      "needs_background": "light"
     },
     "output_type": "display_data"
    }
   ],
   "source": [
    "fpr_train, tpr_train, thresholds_train = roc_curve(y_train, y_train_predict)\n",
    "fpr_test, tpr_test, thresholds_test = roc_curve(y_test, y_test_predict)\n",
    "\n",
    "matplotlib.rcParams['figure.figsize'] = (10.0, 10.0)\n",
    "plt.plot(fpr_train, tpr_train, label='Train ROC AUC {0}'.format(roc_auc_train))\n",
    "plt.plot(fpr_test, tpr_test, label='Test ROC AUC {0}'.format(roc_auc_test))\n",
    "plt.plot([0, 1], [0, 1], '--', color=(0.6, 0.6, 0.6))\n",
    "plt.xlim([0, 1])\n",
    "plt.ylim([0, 1])\n",
    "plt.xlabel('False Positive Rate')\n",
    "plt.ylabel('True Positive Rate')\n",
    "plt.title('XGB Classifier', size=16)\n",
    "plt.legend(loc='lower right')\n",
    "plt.show()"
   ]
  },
  {
   "cell_type": "code",
   "execution_count": null,
   "metadata": {},
   "outputs": [],
   "source": []
  },
  {
   "cell_type": "markdown",
   "metadata": {},
   "source": [
    "## Домашняя работа\n",
    "\n",
    "1. Наборы данных вида Transactions (несколько транзакций на одного клиента) трансформировать в таблицу, где cl_id будут уникальными (соответственно 4000 строк в train и 1000 строк в test\n",
    "2. Для каждого cl_id будет уникальное целевое событие target_flag, а также уникальный канал привлечения клиента channel_type (клиент привлекается лишь однажды и с самого начала его записи присваивается значение канала привлечения)\n",
    "3. При агрегации (*pandas.DataFrame.groupby*) по cl_id (или по связке cl_id, channel_type, target_flag) необходимо создавать производные фичи, идеи для таких фичей могут быть следующими:\n",
    "\n",
    "    - общая сумма транзакций по каждой из trx_category\n",
    "    - общая сумма транзакции по основным вылютам (напр. выделить рубли, доллары и евро - предположительно, это будут самые крупные категории)\n",
    "    - общая сумма транзакций по категориям MCC кодов (например, выбрать основные/популярные MCC коды). ВНИМАНИ! Некоторые MCC коды из train могут быть не представлены в test. Про MCC коды в целом: http://www.banki.ru/wikibank/mcc-kod/; Справочник MCC кодов: https://mcc-codes.ru/code; Про некоторые категории кэшбека Росбанка: https://mcc-codes.ru/card/rosbank-sverkh-plus;\n",
    "    - возможные агрегации по времени суток и дням недели - траты в выходные (праздники) или будни, в ночное время или в рабочее и т.д.\n",
    "4. **Обязательная часть**: провести первичный анализ данных - посмотреть распределения признаков, выделить самые популярные MCC, помотреть активность клиентов по дням недели/времени, какие категории транзакции (trx_category) наиболее популярны и т.д. Получить инсайты, которые в дальнейшем помогут вам правильно подготовить фичи\n",
    "5. **Дополнительная часть**: с отобранными фичами и полученными компонентами обучить модель (тип алгоритма на свой вкус, можно начать с линейной) и померить качество на локальном тестовом наборе данных (локальная валидация), который создается в этом ноутбуке. **Метрика оценки качества - ROC AUC**(https://en.wikipedia.org/wiki/Receiver_operating_characteristic)\n",
    "6. Задания принимаются в виде ноутбука с кодов/картинками выполненной обязательной части\n",
    "\n",
    "При возникновении вопросов и для отправки домашнего задания - egsachko@gmail.com или http://fb.com/sachkoe\n",
    "    "
   ]
  }
 ],
 "metadata": {
  "kernelspec": {
   "display_name": "Python 3",
   "language": "python",
   "name": "python3"
  },
  "language_info": {
   "codemirror_mode": {
    "name": "ipython",
    "version": 3
   },
   "file_extension": ".py",
   "mimetype": "text/x-python",
   "name": "python",
   "nbconvert_exporter": "python",
   "pygments_lexer": "ipython3",
   "version": "3.7.2"
  }
 },
 "nbformat": 4,
 "nbformat_minor": 2
}
